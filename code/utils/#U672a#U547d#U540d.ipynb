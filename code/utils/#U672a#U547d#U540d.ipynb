{
 "cells": [
  {
   "cell_type": "code",
   "execution_count": 1,
   "metadata": {},
   "outputs": [],
   "source": [
    "import pandas as pd"
   ]
  },
  {
   "cell_type": "code",
   "execution_count": 2,
   "metadata": {},
   "outputs": [],
   "source": [
    "a = pd.read_csv('rap_my.csv')"
   ]
  },
  {
   "cell_type": "code",
   "execution_count": 3,
   "metadata": {},
   "outputs": [
    {
     "data": {
      "text/html": [
       "<div>\n",
       "<style scoped>\n",
       "    .dataframe tbody tr th:only-of-type {\n",
       "        vertical-align: middle;\n",
       "    }\n",
       "\n",
       "    .dataframe tbody tr th {\n",
       "        vertical-align: top;\n",
       "    }\n",
       "\n",
       "    .dataframe thead th {\n",
       "        text-align: right;\n",
       "    }\n",
       "</style>\n",
       "<table border=\"1\" class=\"dataframe\">\n",
       "  <thead>\n",
       "    <tr style=\"text-align: right;\">\n",
       "      <th></th>\n",
       "      <th>Unnamed: 0</th>\n",
       "      <th>Female</th>\n",
       "      <th>AgeLess16</th>\n",
       "      <th>Age17-30</th>\n",
       "      <th>Age31-45</th>\n",
       "      <th>BodyFat</th>\n",
       "      <th>BodyNormal</th>\n",
       "      <th>BodyThin</th>\n",
       "      <th>Customer</th>\n",
       "      <th>Clerk</th>\n",
       "      <th>...</th>\n",
       "      <th>attach-HandTrunk</th>\n",
       "      <th>attach-Other</th>\n",
       "      <th>action-Calling</th>\n",
       "      <th>action-Talking</th>\n",
       "      <th>action-Gathering</th>\n",
       "      <th>action-Holding</th>\n",
       "      <th>action-Pusing</th>\n",
       "      <th>action-Pulling</th>\n",
       "      <th>action-CarrybyArm</th>\n",
       "      <th>action-CarrybyHand</th>\n",
       "    </tr>\n",
       "  </thead>\n",
       "  <tbody>\n",
       "    <tr>\n",
       "      <td>0</td>\n",
       "      <td>../../data/RAP/RAP_dataset/CAM17_2014-02-20_20...</td>\n",
       "      <td>0</td>\n",
       "      <td>0</td>\n",
       "      <td>1</td>\n",
       "      <td>0</td>\n",
       "      <td>0</td>\n",
       "      <td>0</td>\n",
       "      <td>1</td>\n",
       "      <td>1</td>\n",
       "      <td>0</td>\n",
       "      <td>...</td>\n",
       "      <td>0</td>\n",
       "      <td>1</td>\n",
       "      <td>0</td>\n",
       "      <td>0</td>\n",
       "      <td>1</td>\n",
       "      <td>1</td>\n",
       "      <td>0</td>\n",
       "      <td>0</td>\n",
       "      <td>0</td>\n",
       "      <td>0</td>\n",
       "    </tr>\n",
       "    <tr>\n",
       "      <td>1</td>\n",
       "      <td>../../data/RAP/RAP_dataset/CAM31_2014-02-26_20...</td>\n",
       "      <td>0</td>\n",
       "      <td>0</td>\n",
       "      <td>1</td>\n",
       "      <td>0</td>\n",
       "      <td>0</td>\n",
       "      <td>1</td>\n",
       "      <td>0</td>\n",
       "      <td>1</td>\n",
       "      <td>0</td>\n",
       "      <td>...</td>\n",
       "      <td>0</td>\n",
       "      <td>0</td>\n",
       "      <td>1</td>\n",
       "      <td>0</td>\n",
       "      <td>0</td>\n",
       "      <td>0</td>\n",
       "      <td>0</td>\n",
       "      <td>0</td>\n",
       "      <td>0</td>\n",
       "      <td>0</td>\n",
       "    </tr>\n",
       "    <tr>\n",
       "      <td>2</td>\n",
       "      <td>../../data/RAP/RAP_dataset/CAM21_2014-03-18_20...</td>\n",
       "      <td>1</td>\n",
       "      <td>0</td>\n",
       "      <td>1</td>\n",
       "      <td>0</td>\n",
       "      <td>0</td>\n",
       "      <td>1</td>\n",
       "      <td>1</td>\n",
       "      <td>1</td>\n",
       "      <td>0</td>\n",
       "      <td>...</td>\n",
       "      <td>0</td>\n",
       "      <td>1</td>\n",
       "      <td>0</td>\n",
       "      <td>0</td>\n",
       "      <td>0</td>\n",
       "      <td>0</td>\n",
       "      <td>0</td>\n",
       "      <td>0</td>\n",
       "      <td>0</td>\n",
       "      <td>1</td>\n",
       "    </tr>\n",
       "    <tr>\n",
       "      <td>3</td>\n",
       "      <td>../../data/RAP/RAP_dataset/CAM12_2014-03-20_20...</td>\n",
       "      <td>0</td>\n",
       "      <td>0</td>\n",
       "      <td>1</td>\n",
       "      <td>0</td>\n",
       "      <td>0</td>\n",
       "      <td>0</td>\n",
       "      <td>1</td>\n",
       "      <td>1</td>\n",
       "      <td>0</td>\n",
       "      <td>...</td>\n",
       "      <td>0</td>\n",
       "      <td>0</td>\n",
       "      <td>0</td>\n",
       "      <td>0</td>\n",
       "      <td>0</td>\n",
       "      <td>0</td>\n",
       "      <td>0</td>\n",
       "      <td>0</td>\n",
       "      <td>0</td>\n",
       "      <td>0</td>\n",
       "    </tr>\n",
       "    <tr>\n",
       "      <td>4</td>\n",
       "      <td>../../data/RAP/RAP_dataset/CAM22_2014-02-15_20...</td>\n",
       "      <td>1</td>\n",
       "      <td>0</td>\n",
       "      <td>0</td>\n",
       "      <td>1</td>\n",
       "      <td>1</td>\n",
       "      <td>0</td>\n",
       "      <td>0</td>\n",
       "      <td>1</td>\n",
       "      <td>0</td>\n",
       "      <td>...</td>\n",
       "      <td>0</td>\n",
       "      <td>0</td>\n",
       "      <td>0</td>\n",
       "      <td>0</td>\n",
       "      <td>0</td>\n",
       "      <td>0</td>\n",
       "      <td>0</td>\n",
       "      <td>0</td>\n",
       "      <td>0</td>\n",
       "      <td>0</td>\n",
       "    </tr>\n",
       "    <tr>\n",
       "      <td>...</td>\n",
       "      <td>...</td>\n",
       "      <td>...</td>\n",
       "      <td>...</td>\n",
       "      <td>...</td>\n",
       "      <td>...</td>\n",
       "      <td>...</td>\n",
       "      <td>...</td>\n",
       "      <td>...</td>\n",
       "      <td>...</td>\n",
       "      <td>...</td>\n",
       "      <td>...</td>\n",
       "      <td>...</td>\n",
       "      <td>...</td>\n",
       "      <td>...</td>\n",
       "      <td>...</td>\n",
       "      <td>...</td>\n",
       "      <td>...</td>\n",
       "      <td>...</td>\n",
       "      <td>...</td>\n",
       "      <td>...</td>\n",
       "      <td>...</td>\n",
       "    </tr>\n",
       "    <tr>\n",
       "      <td>8311</td>\n",
       "      <td>../../data/RAP/RAP_dataset/CAM14_2014-03-02_20...</td>\n",
       "      <td>0</td>\n",
       "      <td>1</td>\n",
       "      <td>0</td>\n",
       "      <td>0</td>\n",
       "      <td>0</td>\n",
       "      <td>0</td>\n",
       "      <td>1</td>\n",
       "      <td>1</td>\n",
       "      <td>0</td>\n",
       "      <td>...</td>\n",
       "      <td>0</td>\n",
       "      <td>0</td>\n",
       "      <td>0</td>\n",
       "      <td>0</td>\n",
       "      <td>0</td>\n",
       "      <td>0</td>\n",
       "      <td>0</td>\n",
       "      <td>0</td>\n",
       "      <td>0</td>\n",
       "      <td>0</td>\n",
       "    </tr>\n",
       "    <tr>\n",
       "      <td>8312</td>\n",
       "      <td>../../data/RAP/RAP_dataset/CAM14_2014-03-12_20...</td>\n",
       "      <td>0</td>\n",
       "      <td>0</td>\n",
       "      <td>1</td>\n",
       "      <td>0</td>\n",
       "      <td>0</td>\n",
       "      <td>1</td>\n",
       "      <td>1</td>\n",
       "      <td>1</td>\n",
       "      <td>0</td>\n",
       "      <td>...</td>\n",
       "      <td>0</td>\n",
       "      <td>0</td>\n",
       "      <td>0</td>\n",
       "      <td>0</td>\n",
       "      <td>1</td>\n",
       "      <td>0</td>\n",
       "      <td>0</td>\n",
       "      <td>0</td>\n",
       "      <td>0</td>\n",
       "      <td>0</td>\n",
       "    </tr>\n",
       "    <tr>\n",
       "      <td>8313</td>\n",
       "      <td>../../data/RAP/RAP_dataset/CAM22_2014-03-02_20...</td>\n",
       "      <td>0</td>\n",
       "      <td>0</td>\n",
       "      <td>1</td>\n",
       "      <td>0</td>\n",
       "      <td>0</td>\n",
       "      <td>1</td>\n",
       "      <td>0</td>\n",
       "      <td>1</td>\n",
       "      <td>0</td>\n",
       "      <td>...</td>\n",
       "      <td>0</td>\n",
       "      <td>1</td>\n",
       "      <td>0</td>\n",
       "      <td>0</td>\n",
       "      <td>0</td>\n",
       "      <td>1</td>\n",
       "      <td>0</td>\n",
       "      <td>0</td>\n",
       "      <td>0</td>\n",
       "      <td>0</td>\n",
       "    </tr>\n",
       "    <tr>\n",
       "      <td>8314</td>\n",
       "      <td>../../data/RAP/RAP_dataset/CAM17_2014-03-10_20...</td>\n",
       "      <td>0</td>\n",
       "      <td>0</td>\n",
       "      <td>0</td>\n",
       "      <td>1</td>\n",
       "      <td>1</td>\n",
       "      <td>0</td>\n",
       "      <td>0</td>\n",
       "      <td>1</td>\n",
       "      <td>0</td>\n",
       "      <td>...</td>\n",
       "      <td>0</td>\n",
       "      <td>1</td>\n",
       "      <td>0</td>\n",
       "      <td>1</td>\n",
       "      <td>1</td>\n",
       "      <td>1</td>\n",
       "      <td>0</td>\n",
       "      <td>0</td>\n",
       "      <td>1</td>\n",
       "      <td>0</td>\n",
       "    </tr>\n",
       "    <tr>\n",
       "      <td>8315</td>\n",
       "      <td>../../data/RAP/RAP_dataset/CAM16_2014-02-17_20...</td>\n",
       "      <td>0</td>\n",
       "      <td>0</td>\n",
       "      <td>0</td>\n",
       "      <td>1</td>\n",
       "      <td>1</td>\n",
       "      <td>0</td>\n",
       "      <td>0</td>\n",
       "      <td>1</td>\n",
       "      <td>0</td>\n",
       "      <td>...</td>\n",
       "      <td>0</td>\n",
       "      <td>0</td>\n",
       "      <td>0</td>\n",
       "      <td>0</td>\n",
       "      <td>0</td>\n",
       "      <td>0</td>\n",
       "      <td>0</td>\n",
       "      <td>0</td>\n",
       "      <td>0</td>\n",
       "      <td>0</td>\n",
       "    </tr>\n",
       "  </tbody>\n",
       "</table>\n",
       "<p>8316 rows × 52 columns</p>\n",
       "</div>"
      ],
      "text/plain": [
       "                                             Unnamed: 0  Female  AgeLess16  \\\n",
       "0     ../../data/RAP/RAP_dataset/CAM17_2014-02-20_20...       0          0   \n",
       "1     ../../data/RAP/RAP_dataset/CAM31_2014-02-26_20...       0          0   \n",
       "2     ../../data/RAP/RAP_dataset/CAM21_2014-03-18_20...       1          0   \n",
       "3     ../../data/RAP/RAP_dataset/CAM12_2014-03-20_20...       0          0   \n",
       "4     ../../data/RAP/RAP_dataset/CAM22_2014-02-15_20...       1          0   \n",
       "...                                                 ...     ...        ...   \n",
       "8311  ../../data/RAP/RAP_dataset/CAM14_2014-03-02_20...       0          1   \n",
       "8312  ../../data/RAP/RAP_dataset/CAM14_2014-03-12_20...       0          0   \n",
       "8313  ../../data/RAP/RAP_dataset/CAM22_2014-03-02_20...       0          0   \n",
       "8314  ../../data/RAP/RAP_dataset/CAM17_2014-03-10_20...       0          0   \n",
       "8315  ../../data/RAP/RAP_dataset/CAM16_2014-02-17_20...       0          0   \n",
       "\n",
       "      Age17-30  Age31-45  BodyFat  BodyNormal  BodyThin  Customer  Clerk  ...  \\\n",
       "0            1         0        0           0         1         1      0  ...   \n",
       "1            1         0        0           1         0         1      0  ...   \n",
       "2            1         0        0           1         1         1      0  ...   \n",
       "3            1         0        0           0         1         1      0  ...   \n",
       "4            0         1        1           0         0         1      0  ...   \n",
       "...        ...       ...      ...         ...       ...       ...    ...  ...   \n",
       "8311         0         0        0           0         1         1      0  ...   \n",
       "8312         1         0        0           1         1         1      0  ...   \n",
       "8313         1         0        0           1         0         1      0  ...   \n",
       "8314         0         1        1           0         0         1      0  ...   \n",
       "8315         0         1        1           0         0         1      0  ...   \n",
       "\n",
       "      attach-HandTrunk  attach-Other  action-Calling  action-Talking  \\\n",
       "0                    0             1               0               0   \n",
       "1                    0             0               1               0   \n",
       "2                    0             1               0               0   \n",
       "3                    0             0               0               0   \n",
       "4                    0             0               0               0   \n",
       "...                ...           ...             ...             ...   \n",
       "8311                 0             0               0               0   \n",
       "8312                 0             0               0               0   \n",
       "8313                 0             1               0               0   \n",
       "8314                 0             1               0               1   \n",
       "8315                 0             0               0               0   \n",
       "\n",
       "      action-Gathering  action-Holding  action-Pusing  action-Pulling  \\\n",
       "0                    1               1              0               0   \n",
       "1                    0               0              0               0   \n",
       "2                    0               0              0               0   \n",
       "3                    0               0              0               0   \n",
       "4                    0               0              0               0   \n",
       "...                ...             ...            ...             ...   \n",
       "8311                 0               0              0               0   \n",
       "8312                 1               0              0               0   \n",
       "8313                 0               1              0               0   \n",
       "8314                 1               1              0               0   \n",
       "8315                 0               0              0               0   \n",
       "\n",
       "      action-CarrybyArm  action-CarrybyHand  \n",
       "0                     0                   0  \n",
       "1                     0                   0  \n",
       "2                     0                   1  \n",
       "3                     0                   0  \n",
       "4                     0                   0  \n",
       "...                 ...                 ...  \n",
       "8311                  0                   0  \n",
       "8312                  0                   0  \n",
       "8313                  0                   0  \n",
       "8314                  1                   0  \n",
       "8315                  0                   0  \n",
       "\n",
       "[8316 rows x 52 columns]"
      ]
     },
     "execution_count": 3,
     "metadata": {},
     "output_type": "execute_result"
    }
   ],
   "source": [
    "a"
   ]
  },
  {
   "cell_type": "code",
   "execution_count": 11,
   "metadata": {},
   "outputs": [],
   "source": [
    "s = a.columns.values"
   ]
  },
  {
   "cell_type": "code",
   "execution_count": 12,
   "metadata": {},
   "outputs": [],
   "source": [
    "s=s[1:]"
   ]
  },
  {
   "cell_type": "code",
   "execution_count": 14,
   "metadata": {},
   "outputs": [],
   "source": [
    "b = a.to_numpy()"
   ]
  },
  {
   "cell_type": "code",
   "execution_count": 17,
   "metadata": {},
   "outputs": [],
   "source": [
    "imgs=b[:,0]"
   ]
  },
  {
   "cell_type": "code",
   "execution_count": 19,
   "metadata": {},
   "outputs": [],
   "source": [
    "my_results = b[:,1:]"
   ]
  },
  {
   "cell_type": "code",
   "execution_count": 45,
   "metadata": {},
   "outputs": [],
   "source": [
    "des_label = my_results[20,:]"
   ]
  },
  {
   "cell_type": "code",
   "execution_count": 46,
   "metadata": {},
   "outputs": [],
   "source": [
    "import numpy as np"
   ]
  },
  {
   "cell_type": "code",
   "execution_count": null,
   "metadata": {},
   "outputs": [],
   "source": []
  },
  {
   "cell_type": "code",
   "execution_count": 47,
   "metadata": {},
   "outputs": [],
   "source": [
    "p = des_label.astype(np.int32)"
   ]
  },
  {
   "cell_type": "code",
   "execution_count": 48,
   "metadata": {},
   "outputs": [
    {
     "name": "stdout",
     "output_type": "stream",
     "text": [
      "Age17-30\n",
      "BodyNormal\n",
      "Customer\n",
      "hs-BlackHair\n",
      "ub-Shirt\n",
      "ub-Sweater\n",
      "ub-TShirt\n",
      "ub-Cotton\n",
      "ub-Jacket\n",
      "lb-Jeans\n",
      "shoes-Sport\n",
      "shoes-Casual\n",
      "attach-SingleShoulderBag\n",
      "attach-Other\n",
      "action-Calling\n"
     ]
    }
   ],
   "source": [
    "for i in range(len(s)):\n",
    "    if des_label[i]==1:\n",
    "        print(s[i])"
   ]
  },
  {
   "cell_type": "code",
   "execution_count": 49,
   "metadata": {},
   "outputs": [],
   "source": [
    "c = pd.read_csv('rap_val_result.csv')"
   ]
  },
  {
   "cell_type": "code",
   "execution_count": 50,
   "metadata": {},
   "outputs": [],
   "source": [
    "q = c.to_numpy()"
   ]
  },
  {
   "cell_type": "code",
   "execution_count": 51,
   "metadata": {},
   "outputs": [],
   "source": [
    "q=q[:,1:]"
   ]
  },
  {
   "cell_type": "code",
   "execution_count": 52,
   "metadata": {},
   "outputs": [
    {
     "data": {
      "text/plain": [
       "array([0, 0, 1, 0, 0, 1, 0, 1, 0, 0, 0, 1, 0, 0, 0, 0, 0, 0, 1, 0, 0, 0,\n",
       "       0, 0, 1, 0, 0, 0, 0, 0, 0, 1, 0, 0, 0, 0, 0, 0, 0, 0, 0, 0, 0, 0,\n",
       "       0, 0, 0, 0, 0, 0, 0], dtype=object)"
      ]
     },
     "execution_count": 52,
     "metadata": {},
     "output_type": "execute_result"
    }
   ],
   "source": [
    "q[0,:]"
   ]
  },
  {
   "cell_type": "code",
   "execution_count": 53,
   "metadata": {},
   "outputs": [
    {
     "name": "stdout",
     "output_type": "stream",
     "text": [
      "Age17-30\n",
      "BodyNormal\n",
      "Customer\n",
      "hs-BlackHair\n",
      "ub-Jacket\n",
      "lb-Jeans\n",
      "shoes-Casual\n",
      "attach-SingleShoulderBag\n"
     ]
    }
   ],
   "source": [
    "for i in range(len(s)):\n",
    "    if q[20,i]==1:\n",
    "        print(s[i])"
   ]
  },
  {
   "cell_type": "code",
   "execution_count": 54,
   "metadata": {},
   "outputs": [],
   "source": [
    "d  = pd.read_csv('rap_label.csv')"
   ]
  },
  {
   "cell_type": "code",
   "execution_count": 55,
   "metadata": {},
   "outputs": [],
   "source": [
    "qq = d.to_numpy()\n",
    "qq=qq[:,1:]"
   ]
  },
  {
   "cell_type": "code",
   "execution_count": 57,
   "metadata": {},
   "outputs": [
    {
     "name": "stdout",
     "output_type": "stream",
     "text": [
      "Age17-30\n",
      "BodyNormal\n",
      "Customer\n",
      "hs-BlackHair\n",
      "ub-TShirt\n",
      "ub-Jacket\n",
      "lb-Jeans\n",
      "shoes-Casual\n",
      "attach-SingleShoulderBag\n",
      "attach-Other\n",
      "action-Calling\n"
     ]
    }
   ],
   "source": [
    "for i in range(len(s)):\n",
    "    if qq[20,i]==1:\n",
    "        print(s[i])"
   ]
  },
  {
   "cell_type": "code",
   "execution_count": 58,
   "metadata": {},
   "outputs": [
    {
     "data": {
      "text/plain": [
       "array([[0, 0, 0, ..., 0, 0, 0],\n",
       "       [0, 0, 0, ..., 0, 0, 0],\n",
       "       [1, 0, 0, ..., 0, 0, 0],\n",
       "       ...,\n",
       "       [0, 0, 1, ..., 0, 0, 0],\n",
       "       [0, 0, 0, ..., 0, 0, 0],\n",
       "       [0, 0, 0, ..., 0, 0, 0]], dtype=object)"
      ]
     },
     "execution_count": 58,
     "metadata": {},
     "output_type": "execute_result"
    }
   ],
   "source": []
  },
  {
   "cell_type": "code",
   "execution_count": 89,
   "metadata": {},
   "outputs": [],
   "source": [
    "def rap_csv_read(path):\n",
    "    import pandas as pd\n",
    "    df = pd.read_csv(path)\n",
    "    names = df.columns.values[1:]\n",
    "    data = df.to_numpy()\n",
    "    imgs = data[:,0]\n",
    "    labels = data[:,1:]\n",
    "    return names,imgs,labels, labels.sum(axis=1)"
   ]
  },
  {
   "cell_type": "code",
   "execution_count": 92,
   "metadata": {},
   "outputs": [],
   "source": [
    "classes,imgs_re,labels_re, labels_ins_sum_re = rap_csv_read('rap_label.csv')"
   ]
  },
  {
   "cell_type": "code",
   "execution_count": 94,
   "metadata": {},
   "outputs": [],
   "source": [
    "_, _, labels_ori, labels_ins_sum_ori =rap_csv_read('rap_val_result.csv')"
   ]
  },
  {
   "cell_type": "code",
   "execution_count": 95,
   "metadata": {},
   "outputs": [],
   "source": [
    "_, _, labels_me, labels_ins_sum_me =rap_csv_read('rap_my.csv')"
   ]
  },
  {
   "cell_type": "code",
   "execution_count": 107,
   "metadata": {},
   "outputs": [],
   "source": [
    "S = pd.DataFrame(np.vstack((labels_ins_sum_re,labels_ins_sum_ori,labels_ins_sum_me)).transpose()\n",
    "             , columns=['reall','ori','my'])"
   ]
  },
  {
   "cell_type": "code",
   "execution_count": 108,
   "metadata": {},
   "outputs": [],
   "source": [
    "S.to_csv('chouchou.csv')"
   ]
  },
  {
   "cell_type": "code",
   "execution_count": 4,
   "metadata": {},
   "outputs": [],
   "source": [
    "import os\n",
    "\n",
    "import numpy as np\n",
    "import scipy.io as sio\n",
    "from torch.utils import data\n",
    "\n",
    "\n",
    "class RAP(data.Dataset):\n",
    "    def __init__(self, root='../data/RAP'):\n",
    "        self.root = root\n",
    "        self.classes_num = 51\n",
    "        self.save_path_partion = self.root\n",
    "        self.label_size = self.classes_num\n",
    "        self.get_train_test()\n",
    "        self.attribute_adjust()\n",
    "        self.datasetname = 'RAP'\n",
    "        self.train_num = len(self.label_train)\n",
    "        self.get_adj_matrix()\n",
    "\n",
    "    def attribute_adjust(self):\n",
    "        whole = [0, 1, 2, 3, 4, 5, 6, 7, 8, 43, 44, 45, 46, 47, 48, 49, 50] # 17\n",
    "        hs = [9, 10, 11, 12, 13, 14] # 6\n",
    "        ub = [15, 16, 17, 18, 19, 20, 21, 22, 23] # 9\n",
    "        lb = [24, 25, 26, 27, 28, 29] # 6\n",
    "        sh = [30, 31, 32, 33, 34] # 5\n",
    "        at = [35, 36, 37, 38, 39, 40, 41, 42] # 8\n",
    "        self.spatial_parts = {\n",
    "            'whole': whole,\n",
    "            'hs': hs,\n",
    "            'ub': ub,\n",
    "            'lb': lb,\n",
    "            'sh': sh,\n",
    "            'at': at,\n",
    "        }\n",
    "\n",
    "        self.parts_re_index = [0, 1, 2, 3, 4, 5, 6, 7, 8, 17, 18, 19, 20, 21, 22, 23, 24, 25, 26, 27, 28, 29, 30,\n",
    "                               31, 32, 33, 34, 35, 36, 37, 38, 39, 40, 41, 42, 43, 44, 45, 46, 47, 48, 49, 50, 9,\n",
    "                               10, 11, 12, 13, 14, 15, 16]\n",
    "\n",
    "        low_level = [11]\n",
    "        mid_level = [9, 10, 12, 13, 14, 15, 16, 17, 18, 19, 20, 21, 22, 23, 24, 25, 26, 27, 28, 29, 30, 31, 32, 33, 34,\n",
    "                     35, 36, 37, 38, 39, 40, 41, 42]\n",
    "        high_level = [0, 1, 2, 3, 4, 5, 6, 7, 8, 43, 44, 45, 46, 47, 48, 49, 50]\n",
    "\n",
    "        self.hierarchical = {\n",
    "            'low': low_level,\n",
    "            'mid': mid_level,\n",
    "            'high': high_level\n",
    "        }\n",
    "        self.hierarchical_re_index = [34, 35, 36, 37, 38, 39, 40, 41, 42, 1, 2, 0, 3, 4, 5, 6, 7, 8, 9, 10, 11, 12, 13, 14, 15, 16, 17, 18, 19, 20, 21, 22, 23, 24, 25, 26, 27, 28, 29, 30, 31, 32, 33, 43, 44, 45, 46, 47, 48, 49, 50]\n",
    "\n",
    "        self.adj_part_name = ['whole', 'hs', 'ub', 'lb', 'sh', 'at']\n",
    "        self.att_parts_count = [len(whole), len(at), len(hs), len(ub), len(lb), len(sh)]\n",
    "\n",
    "        index = np.hstack((whole, at, hs, ub, lb, sh)) # **********\n",
    "\n",
    "        # self.lower = [len(whole) + len(at), len(whole) + len(at) + len(hs) + len(ub) + len(lb) + len(sh)]\n",
    "        # self.high = [0, len(whole) + len(at)]\n",
    "        # self.hierarchical = {'high': self.high, 'low': self.lower}\n",
    "\n",
    "        # self.ac_classes = np.array(self.ac_classes)[index]\n",
    "\n",
    "        # self.label_train = self.label_train[:, index]\n",
    "        # self.label_val = self.label_val[:, index]\n",
    "\n",
    "\n",
    "    def get_small_adj(self):\n",
    "        # adj=None\n",
    "        adj_dic = {}\n",
    "        # label_train=self.label_train\n",
    "        att_parts_count = self.att_parts_count\n",
    "        part_name = self.adj_part_name = ['whole', 'hs', 'ub', 'lb', 'sh', 'at']\n",
    "        for i in range(len(self.att_parts_count)):\n",
    "            part1 = part_name[i]\n",
    "            for j in range(len(self.att_parts_count)):\n",
    "                part2 = part_name[j]\n",
    "                key = part1 + '-' + part2\n",
    "                value = self.get_adj_part(start1=int(np.sum(np.array(att_parts_count[:i]))), num1=att_parts_count[i],\n",
    "                                          start2=int(np.sum(np.array(att_parts_count[:j]))), num2=att_parts_count[j])\n",
    "                adj_dic[key] = value\n",
    "        self.adj_dic_to_csv(adj_dic)\n",
    "        return adj_dic\n",
    "\n",
    "    def get_adj_part(self, start1, num1, start2, num2):\n",
    "        label_train = self.label_train\n",
    "        print(list(range(start1, start1 + num1)) + list(range(start2, start2 + num2)))\n",
    "        des_label = label_train[:, list(range(start1, start1 + num1)) + list(range(start2, start2 + num2))]\n",
    "        adj = np.zeros(shape=[num1, num2])\n",
    "        for label in des_label:\n",
    "            for i in range(num1):\n",
    "                if label[i] == 1:\n",
    "                    for j in range(num1, num1 + num2):\n",
    "                        if label[j] == 1:\n",
    "                            adj[i, j - num1] += 1\n",
    "        count = np.sum(des_label, axis=0)\n",
    "        size = len(count)\n",
    "        count = np.reshape(count, newshape=(size, 1))\n",
    "        adj = adj / count[:num1]\n",
    "        adj[adj >= self.threshold] = 1\n",
    "        adj[adj < self.threshold] = 0\n",
    "        adj = adj.astype(np.float32)\n",
    "        return adj\n",
    "\n",
    "    def adj_dic_to_csv(self, adj_dic):\n",
    "        import pandas as pd\n",
    "        att_parts_count = self.att_parts_count\n",
    "        for key, value in adj_dic.items():\n",
    "            arr = key.split('-')\n",
    "            id1 = self.adj_part_name.index(arr[0])\n",
    "            id2 = self.adj_part_name.index(arr[1])\n",
    "            start1 = int(np.sum(np.array(att_parts_count[:id1])))\n",
    "            num1 = att_parts_count[id1]\n",
    "            index = self.ac_classes[start1:start1 + num1]\n",
    "\n",
    "            start2 = int(np.sum(np.array(att_parts_count[:id2])))\n",
    "            num2 = att_parts_count[id2]\n",
    "            columns = self.ac_classes[start2:start2 + num2]\n",
    "\n",
    "            data = pd.DataFrame(value, index=index, columns=columns)\n",
    "            data.to_csv('part2part/' + key + '.csv')\n",
    "\n",
    "    def get_adj_location(self):\n",
    "        adj_ori = self.get_adj_matrix()\n",
    "        adj = np.zeros(shape=[1, self.classes_num, self.classes_num, len(self.adj_part_name) ** 2])\n",
    "        for i in range(len(self.classes_num)):\n",
    "            for j in range(len(self.classes_num)):\n",
    "                channel = (i + 1) * (j + 1) - 1\n",
    "                adj[0, i, j, channel] = adj_ori[i, j]\n",
    "        return adj\n",
    "\n",
    "    def get_train_test(self, partion=0):\n",
    "\n",
    "        data_root = self.root\n",
    "        data = sio.loadmat(data_root + \"/RAP_annotation/RAP_annotation.mat\")[\"RAP_annotation\"]\n",
    "        attributes_list = []\n",
    "        self.classes_ch = [x[0][0] for x in data[0][0][2]][:51]\n",
    "        for i in range(data[\"attribute_eng\"][0][0].shape[0]):\n",
    "            attributes_list.append(data[\"attribute_eng\"][0][0][i][0][0])\n",
    "        X_data = []\n",
    "        y_data = []\n",
    "        for i in range(41585):\n",
    "            X_data.append(os.path.join(data_root + \"/RAP_dataset\", data['imagesname'][0][0][i][0][0]))\n",
    "            y_data.append(data['label'][0][0][i])\n",
    "        X_data = np.asarray(X_data)\n",
    "        y_data = np.asarray(y_data)\n",
    "        train_indices, test_indices = data['partion'][0][0][partion][0][0][0]\n",
    "        train_indices, test_indices = list(train_indices[0] - 1), list(test_indices[0] - 1)\n",
    "        self.ac_classes = attributes_list[:self.classes_num]\n",
    "        '''\n",
    "        print(\"=========================================\")\n",
    "        #print(attributes_list)\n",
    "        print(\"The shape of the X_train is: \", X_data[train_indices].shape)\n",
    "        print(\"The shape of the y_train is: \", y_data[train_indices].shape)\n",
    "        print(\"The shape of the X_test is: \", X_data[test_indices].shape)\n",
    "        print(\"The shape of the y_test is: \", y_data[test_indices].shape)\n",
    "        print(\"=========================================\")\n",
    "        '''\n",
    "        self.img_train = X_data[train_indices]\n",
    "        self.label_train = y_data[train_indices][:, :self.classes_num]\n",
    "        self.img_val = X_data[test_indices]\n",
    "        self.label_val = y_data[test_indices][:, :self.classes_num]\n",
    "\n",
    "        return X_data[train_indices], y_data[train_indices], X_data[test_indices], y_data[test_indices], attributes_list\n",
    "\n",
    "    def get_adj_matrix(self):\n",
    "        '''\n",
    "        return adj matrix\n",
    "        '''\n",
    "        adj_size = self.classes_num\n",
    "        size = adj_size\n",
    "        adj = np.zeros([adj_size, adj_size])\n",
    "        d_mat = np.zeros([adj_size, adj_size])\n",
    "\n",
    "        for item in self.label_train:\n",
    "            for i in range(self.classes_num):\n",
    "                if item[i] == 1:\n",
    "                    for j in range(i + 1, self.classes_num):\n",
    "                        if item[j] == 1:\n",
    "                            adj[i, j] += 1\n",
    "                            adj[j, i] += 1\n",
    "        count = np.sum(self.label_train, axis=0)[:adj_size]\n",
    "        self.count = count\n",
    "        for i in range(adj_size):\n",
    "            d_mat[i, i] = count[i]\n",
    "            adj[i, i] = 0\n",
    "        self.adj_ori = adj.copy()\n",
    "        adj = adj / np.reshape(count, newshape=(size, 1))\n",
    "        self.th_change(adj, 1, 0.8, 0.8)\n",
    "        self.th_change(adj, 0.8, 0.6, 0.6)\n",
    "        self.th_change(adj, 0.6, 0.4, 0.4)\n",
    "        self.th_change(adj, 0.4, 0, 0)\n",
    "        #\n",
    "        # self.th_change(adj, 1 , 0.7, 1)\n",
    "        # self.th_change(adj, 0.7, 0.0, 0.0)\n",
    "\n",
    "\n",
    "        # adj = adj * 0.25 / (adj.sum(0) + 1e-6)\n",
    "        adj = adj * 1.0 / (adj.sum(0) + 1e-6)\n",
    "        adj = adj + np.identity(size, np.float32)\n",
    "        d_mat = np.power(adj.sum(1), -0.5)\n",
    "        d_mat = np.diag(d_mat)\n",
    "        adj = np.matmul(d_mat, adj)\n",
    "        adj = np.matmul(adj, d_mat)\n",
    "        self.adj = adj.astype(np.float32)\n",
    "        return adj.astype(np.float32)\n",
    "\n",
    "    def th_change(self, a, max_, min_, des):\n",
    "        for i in range(a.shape[0]):\n",
    "            for j in range(a.shape[1]):\n",
    "                if a[i, j] >= min_ and a[i, j] < max_:\n",
    "                    a[i, j] = des\n",
    "\n",
    "    def adj_to_csv(self, adj_csv_path='adj.csv', adj_ori_csv_path='adj_ori.csv'):\n",
    "        import pandas as pd\n",
    "        adj_csv_path = self.datasetname + str(len(self.ac_classes)) + adj_csv_path\n",
    "        adj_ori_csv_path = self.datasetname + str(len(self.ac_classes)) + adj_ori_csv_path\n",
    "\n",
    "        if not os.path.exists(adj_csv_path):\n",
    "            df = pd.DataFrame(self.adj, index=self.ac_classes, columns=self.ac_classes)\n",
    "            df.to_csv(adj_csv_path)\n",
    "        else:\n",
    "            print(\"%s already exists\" % adj_csv_path)\n",
    "\n",
    "        if not os.path.exists(adj_ori_csv_path):\n",
    "            df = pd.DataFrame(self.adj_ori, index=self.ac_classes, columns=self.ac_classes)\n",
    "            df.to_csv(adj_ori_csv_path)\n",
    "        else:\n",
    "            print(\"%s already exists\" % adj_ori_csv_path)\n",
    "\n",
    "    def get_one_hot_vector(self):\n",
    "        size = self.classes_num\n",
    "        words = np.zeros(shape=(size, size))\n",
    "        for i in range(size):\n",
    "            words[i, i] = 1\n",
    "        return words\n",
    "\n",
    "    def get_glove_vector(self):\n",
    "        import pickle\n",
    "        vec_path = self.root + '/' + 'rap.att'\n",
    "        with open(vec_path, 'rb') as f:\n",
    "            dic = pickle.load(f)\n",
    "        word = self.ac_classes\n",
    "\n",
    "        for index, key in enumerate(word):\n",
    "            if index == 0:\n",
    "                word_vec = dic[key]\n",
    "            else:\n",
    "                word_vec = np.vstack((word_vec, dic[key]))\n",
    "        return word_vec.astype(np.float32)\n",
    "\n",
    "\n"
   ]
  },
  {
   "cell_type": "code",
   "execution_count": 5,
   "metadata": {},
   "outputs": [],
   "source": [
    "import numpy as np\n",
    "def mA_1(gt_result, pt_result):\n",
    "    '''  '''\n",
    "    # compute the label-based accuracy\n",
    "    if gt_result.shape != pt_result.shape:\n",
    "        print('Shape beteen groundtruth and predicted results are different')\n",
    "    # compute the label-based accuracy\n",
    "    result = {}\n",
    "    gt_pos = np.sum((gt_result == 1).astype(float), axis=0)\n",
    "    gt_neg = np.sum((gt_result == 0).astype(float), axis=0)\n",
    "    pt_pos = np.sum((gt_result == 1).astype(float) * (pt_result == 1).astype(float), axis=0)\n",
    "    pt_neg = np.sum((gt_result == 0).astype(float) * (pt_result == 0).astype(float), axis=0)\n",
    "    label_pos_acc = 1.0 * pt_pos / (gt_pos + 1e-15)\n",
    "    label_neg_acc = 1.0 * pt_neg / (gt_neg + 1e-15)\n",
    "    label_acc = (label_pos_acc + label_neg_acc) / 2\n",
    "    result['label_pos_acc'] = label_pos_acc\n",
    "    result['label_neg_acc'] = label_neg_acc\n",
    "    result['label_acc'] = label_acc\n",
    "    return label_acc"
   ]
  },
  {
   "cell_type": "code",
   "execution_count": 8,
   "metadata": {},
   "outputs": [
    {
     "data": {
      "text/plain": [
       "array([0.946813  , 0.88716859, 0.70987691, 0.71800748, 0.68601465,\n",
       "       0.57032926, 0.6853851 , 0.92110127, 0.94790596, 0.89885266,\n",
       "       0.92928147, 0.87568656, 0.91727103, 0.84701201, 0.81455197,\n",
       "       0.85731948, 0.73664633, 0.92125567, 0.775935  , 0.83948618,\n",
       "       0.79882217, 0.90880797, 0.79795137, 0.89474733, 0.88140372,\n",
       "       0.94358488, 0.92373512, 0.93728408, 0.9126236 , 0.93306998,\n",
       "       0.84587933, 0.76772305, 0.95220537, 0.88138974, 0.73822809,\n",
       "       0.89525067, 0.8586071 , 0.89294362, 0.8439807 , 0.8774586 ,\n",
       "       0.90042069, 0.91290883, 0.74396412, 0.92215396, 0.74071588,\n",
       "       0.71037712, 0.7877691 , 0.94476052, 0.86268019, 0.77989259,\n",
       "       0.87220549])"
      ]
     },
     "execution_count": 8,
     "metadata": {},
     "output_type": "execute_result"
    }
   ],
   "source": [
    "data = RAP('../../data/RAP')\n",
    "names = data.ac_classes\n",
    "label = data.label_val\n",
    "pre = np.load('/data2/fanhn/AttributeReg/saved_module/2020_09_09/mark5/Resnet101_hie_4_SubNet_0.8460675599375188_pre.npy')"
   ]
  },
  {
   "cell_type": "code",
   "execution_count": 34,
   "metadata": {},
   "outputs": [],
   "source": [
    "res=''\n",
    "blk = ','\n",
    "for item in data.classes_ch:\n",
    "    res += '\\\"'+item  + '\\\"'+ blk"
   ]
  },
  {
   "cell_type": "code",
   "execution_count": 35,
   "metadata": {},
   "outputs": [
    {
     "data": {
      "text/plain": [
       "'\"性别\",\"年龄16\",\"年龄30\",\"年龄45\",\"体型微胖\",\"体型标准\",\"体型偏瘦\",\"角色顾客\",\"角色制服\",\"发型光头\",\"发型长发\",\"头肩黑色头发\",\"头肩戴帽\",\"头肩眼镜\",\"头肩围巾\",\"上衣衬衣\",\"上衣毛衣\",\"上衣马甲\",\"上衣T恤\",\"上衣棉服\",\"上衣夹克\",\"上衣西服\",\"上衣卫衣\",\"上衣短袖\",\"下衣长裤\",\"下衣裙子\",\"下衣短裙\",\"下衣连衣裙\",\"下衣牛仔裤\",\"下衣包腿裤\",\"鞋子类型皮鞋\",\"鞋子类型运动鞋\",\"鞋子类型靴子\",\"鞋子类型布鞋\",\"鞋子类型休闲鞋\",\"附属物双肩包\",\"附属物单肩包\",\"附属物手提包\",\"附属物箱子\",\"附属物塑料袋\",\"附属物纸袋\",\"附属物车\",\"附属物其他\",\"行为打手机\",\"行为交谈\",\"行为聚集\",\"行为抱东西\",\"行为推东西\",\"行为拉拽东西\",\"行为夹带东西\",\"行为拎东西\",'"
      ]
     },
     "execution_count": 35,
     "metadata": {},
     "output_type": "execute_result"
    }
   ],
   "source": [
    "res"
   ]
  },
  {
   "cell_type": "code",
   "execution_count": 9,
   "metadata": {},
   "outputs": [],
   "source": [
    "ma = mA_1(label[:-1,:], pre)"
   ]
  },
  {
   "cell_type": "code",
   "execution_count": 15,
   "metadata": {},
   "outputs": [],
   "source": [
    "res = []"
   ]
  },
  {
   "cell_type": "code",
   "execution_count": 16,
   "metadata": {},
   "outputs": [
    {
     "name": "stdout",
     "output_type": "stream",
     "text": [
      "Female--->0.9468130009738869\n",
      "AgeLess16--->0.8871685893543817\n",
      "Customer--->0.9211012731640638\n",
      "Clerk--->0.9479059571306208\n",
      "hs-BaldHead--->0.898852657004831\n",
      "hs-LongHair--->0.9292814742752582\n",
      "hs-BlackHair--->0.8756865585959925\n",
      "hs-Hat--->0.9172710274644433\n",
      "ub-Shirt--->0.8573194758237682\n",
      "ub-Vest--->0.9212556686038443\n",
      "ub-SuitUp--->0.908807972311014\n",
      "ub-ShortSleeve--->0.894747331783192\n",
      "lb-LongTrousers--->0.881403715619171\n",
      "lb-Skirt--->0.943584878962977\n",
      "lb-ShortSkirt--->0.9237351190476191\n",
      "lb-Dress--->0.9372840794627993\n",
      "lb-Jeans--->0.9126236044395267\n",
      "lb-TightTrousers--->0.9330699750154627\n",
      "shoes-Boots--->0.9522053659269927\n",
      "shoes-Cloth--->0.8813897363181942\n",
      "attach-Backpack--->0.8952506717147044\n",
      "attach-SingleShoulderBag--->0.8586070961648967\n",
      "attach-HandBag--->0.8929436197358863\n",
      "attach-PlasticBag--->0.8774586041833523\n",
      "attach-PaperBag--->0.9004206896355822\n",
      "attach-HandTrunk--->0.9129088283674425\n",
      "action-Calling--->0.9221539609501306\n",
      "action-Pusing--->0.9447605154388524\n",
      "action-Pulling--->0.8626801877304726\n",
      "action-CarrybyHand--->0.8722054913830536\n"
     ]
    }
   ],
   "source": [
    "for i, (name, m) in enumerate(zip(names, ma)):\n",
    "    if m>0.85:\n",
    "        print('{}--->{}'.format(name, m))\n",
    "        res.append([i, name, m])"
   ]
  },
  {
   "cell_type": "code",
   "execution_count": 17,
   "metadata": {},
   "outputs": [
    {
     "data": {
      "text/plain": [
       "30"
      ]
     },
     "execution_count": 17,
     "metadata": {},
     "output_type": "execute_result"
    }
   ],
   "source": [
    "len(res)"
   ]
  },
  {
   "cell_type": "code",
   "execution_count": 19,
   "metadata": {},
   "outputs": [
    {
     "data": {
      "text/plain": [
       "[[0, 'Female', 0.9468130009738869],\n",
       " [1, 'AgeLess16', 0.8871685893543817],\n",
       " [7, 'Customer', 0.9211012731640638],\n",
       " [8, 'Clerk', 0.9479059571306208],\n",
       " [9, 'hs-BaldHead', 0.898852657004831],\n",
       " [10, 'hs-LongHair', 0.9292814742752582],\n",
       " [11, 'hs-BlackHair', 0.8756865585959925],\n",
       " [12, 'hs-Hat', 0.9172710274644433],\n",
       " [15, 'ub-Shirt', 0.8573194758237682],\n",
       " [17, 'ub-Vest', 0.9212556686038443],\n",
       " [21, 'ub-SuitUp', 0.908807972311014],\n",
       " [23, 'ub-ShortSleeve', 0.894747331783192],\n",
       " [24, 'lb-LongTrousers', 0.881403715619171],\n",
       " [25, 'lb-Skirt', 0.943584878962977],\n",
       " [26, 'lb-ShortSkirt', 0.9237351190476191],\n",
       " [27, 'lb-Dress', 0.9372840794627993],\n",
       " [28, 'lb-Jeans', 0.9126236044395267],\n",
       " [29, 'lb-TightTrousers', 0.9330699750154627],\n",
       " [32, 'shoes-Boots', 0.9522053659269927],\n",
       " [33, 'shoes-Cloth', 0.8813897363181942],\n",
       " [35, 'attach-Backpack', 0.8952506717147044],\n",
       " [36, 'attach-SingleShoulderBag', 0.8586070961648967],\n",
       " [37, 'attach-HandBag', 0.8929436197358863],\n",
       " [39, 'attach-PlasticBag', 0.8774586041833523],\n",
       " [40, 'attach-PaperBag', 0.9004206896355822],\n",
       " [41, 'attach-HandTrunk', 0.9129088283674425],\n",
       " [43, 'action-Calling', 0.9221539609501306],\n",
       " [47, 'action-Pusing', 0.9447605154388524],\n",
       " [48, 'action-Pulling', 0.8626801877304726],\n",
       " [50, 'action-CarrybyHand', 0.8722054913830536]]"
      ]
     },
     "execution_count": 19,
     "metadata": {},
     "output_type": "execute_result"
    }
   ],
   "source": [
    "res"
   ]
  },
  {
   "cell_type": "code",
   "execution_count": 22,
   "metadata": {},
   "outputs": [],
   "source": [
    "index = []\n",
    "for item in res:\n",
    "    index.append(item[0])"
   ]
  },
  {
   "cell_type": "code",
   "execution_count": 24,
   "metadata": {},
   "outputs": [
    {
     "name": "stdout",
     "output_type": "stream",
     "text": [
      "[0, 1, 7, 8, 9, 10, 11, 12, 15, 17, 21, 23, 24, 25, 26, 27, 28, 29, 32, 33, 35, 36, 37, 39, 40, 41, 43, 47, 48, 50]\n"
     ]
    }
   ],
   "source": [
    "print(index)"
   ]
  },
  {
   "cell_type": "code",
   "execution_count": 26,
   "metadata": {},
   "outputs": [],
   "source": [
    "import json"
   ]
  },
  {
   "cell_type": "code",
   "execution_count": 27,
   "metadata": {},
   "outputs": [
    {
     "data": {
      "text/plain": [
       "'[\"\\\\u5973\\\\u6027\", \"\\\\u89d2\\\\u8272\\\\u5236\\\\u670d\", \"\\\\u5934\\\\u80a9\\\\u9ed1\\\\u8272\\\\u5934\\\\u53d1\", \"\\\\u4e0a\\\\u8863\\\\u886c\\\\u8863\", \"\\\\u4e0b\\\\u8863\\\\u957f\\\\u88e4\", \"\\\\u978b\\\\u5b50\\\\u7c7b\\\\u578b\\\\u5e03\\\\u978b\", \"\\\\u884c\\\\u4e3a\\\\u63a8\\\\u4e1c\\\\u897f\", \"\\\\u884c\\\\u4e3a\\\\u62ce\\\\u4e1c\\\\u897f\"]'"
      ]
     },
     "execution_count": 27,
     "metadata": {},
     "output_type": "execute_result"
    }
   ],
   "source": [
    "json.dumps(['女性', '角色制服', '头肩黑色头发', '上衣衬衣', '下衣长裤', '鞋子类型布鞋', '行为推东西', '行为拎东西'])"
   ]
  },
  {
   "cell_type": "code",
   "execution_count": null,
   "metadata": {},
   "outputs": [],
   "source": []
  }
 ],
 "metadata": {
  "kernelspec": {
   "display_name": "Python 3",
   "language": "python",
   "name": "python3"
  },
  "language_info": {
   "codemirror_mode": {
    "name": "ipython",
    "version": 3
   },
   "file_extension": ".py",
   "mimetype": "text/x-python",
   "name": "python",
   "nbconvert_exporter": "python",
   "pygments_lexer": "ipython3",
   "version": "3.6.11"
  }
 },
 "nbformat": 4,
 "nbformat_minor": 2
}
